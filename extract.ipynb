{
 "cells": [
  {
   "cell_type": "code",
   "execution_count": 0,
   "metadata": {
    "application/vnd.databricks.v1+cell": {
     "cellMetadata": {},
     "inputWidgets": {},
     "nuid": "739b964e-bf24-4429-a3da-ed185f7790aa",
     "showTitle": false,
     "tableResultSettingsMap": {},
     "title": ""
    }
   },
   "outputs": [],
   "source": [
    "class Extractor:\n",
    "    \"\"\"\n",
    "    Abstract class\n",
    "    \"\"\"\n",
    "    def __init__(self):\n",
    "        pass\n",
    "    def Extract(self):\n",
    "        pass\n",
    "class AirpodAfterIphoneExtractor(Extractor):\n",
    "    def Extract(self):\n",
    "        \"\"\"\n",
    "        Implementing steps for extracting or reading the data\n",
    "        \"\"\"\n",
    "        transactionInputDF = get_data_source(\n",
    "            data_type=\"csv\",\n",
    "            file_path=\"dbfs:/FileStore/tables/Transaction_Updated.csv\"\n",
    "        ).get_data_frame()\n",
    "\n",
    "        #transactionInputDF.orderBy(\"customer_id\",\"transaction_date\").show()\n",
    "        customerInputDF = get_data_source(\n",
    "            data_type = \"delta\",\n",
    "            file_path=\"default.customer_delta_table\"\n",
    "        ).get_data_frame()\n",
    "\n",
    "        #customerInputDF.show()\n",
    "\n",
    "        inputDFs = {\n",
    "            \"transactionInputDF\": transactionInputDF,\n",
    "            \"customerInputDF\": customerInputDF\n",
    "        }\n",
    "\n",
    "        return inputDFs"
   ]
  }
 ],
 "metadata": {
  "application/vnd.databricks.v1+notebook": {
   "computePreferences": null,
   "dashboards": [],
   "environmentMetadata": null,
   "language": "python",
   "notebookMetadata": {
    "pythonIndentUnit": 4
   },
   "notebookName": "extract",
   "widgets": {}
  }
 },
 "nbformat": 4,
 "nbformat_minor": 0
}
